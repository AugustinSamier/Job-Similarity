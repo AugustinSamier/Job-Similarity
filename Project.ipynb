{
 "cells": [
  {
   "cell_type": "code",
   "execution_count": null,
   "id": "0f4764f8",
   "metadata": {},
   "outputs": [
    {
     "name": "stderr",
     "output_type": "stream",
     "text": [
      "c:\\Users\\asami\\Desktop\\ING 5\\NLP\\Job-Similarity\\venv\\Lib\\site-packages\\tqdm\\auto.py:21: TqdmWarning: IProgress not found. Please update jupyter and ipywidgets. See https://ipywidgets.readthedocs.io/en/stable/user_install.html\n",
      "  from .autonotebook import tqdm as notebook_tqdm\n"
     ]
    }
   ],
   "source": [
    "import pandas as pd\n",
    "from sentence_transformers import SentenceTransformer\n",
    "import numpy as np"
   ]
  },
  {
   "cell_type": "code",
   "execution_count": 13,
   "id": "d7bf1b6d",
   "metadata": {},
   "outputs": [
    {
     "data": {
      "application/vnd.microsoft.datawrangler.viewer.v0+json": {
       "columns": [
        {
         "name": "index",
         "rawType": "int64",
         "type": "integer"
        },
        {
         "name": "JobID",
         "rawType": "int64",
         "type": "integer"
        },
        {
         "name": "Job",
         "rawType": "object",
         "type": "string"
        },
        {
         "name": "CompID",
         "rawType": "object",
         "type": "string"
        },
        {
         "name": "SkillsID",
         "rawType": "object",
         "type": "string"
        },
        {
         "name": "Competency/Skills",
         "rawType": "object",
         "type": "string"
        }
       ],
       "ref": "48905e9d-0697-4f97-8eef-aa70749476fa",
       "rows": [
        [
         "0",
         "1",
         "Data Analyst",
         "C1",
         "S1",
         "Data Visualization Power BI"
        ],
        [
         "1",
         "1",
         "Data Analyst",
         "C1",
         "S2",
         "Data Visualization Tableau"
        ],
        [
         "2",
         "1",
         "Data Analyst",
         "C1",
         "S3",
         "Data Visualization Looker"
        ],
        [
         "3",
         "1",
         "Data Analyst",
         "C1",
         "S4",
         "Data Visualization Matplotlib"
        ],
        [
         "4",
         "1",
         "Data Analyst",
         "C2",
         "S5",
         "Data Preparation Pandas"
        ]
       ],
       "shape": {
        "columns": 5,
        "rows": 5
       }
      },
      "text/html": [
       "<div>\n",
       "<style scoped>\n",
       "    .dataframe tbody tr th:only-of-type {\n",
       "        vertical-align: middle;\n",
       "    }\n",
       "\n",
       "    .dataframe tbody tr th {\n",
       "        vertical-align: top;\n",
       "    }\n",
       "\n",
       "    .dataframe thead th {\n",
       "        text-align: right;\n",
       "    }\n",
       "</style>\n",
       "<table border=\"1\" class=\"dataframe\">\n",
       "  <thead>\n",
       "    <tr style=\"text-align: right;\">\n",
       "      <th></th>\n",
       "      <th>JobID</th>\n",
       "      <th>Job</th>\n",
       "      <th>CompID</th>\n",
       "      <th>SkillsID</th>\n",
       "      <th>Competency/Skills</th>\n",
       "    </tr>\n",
       "  </thead>\n",
       "  <tbody>\n",
       "    <tr>\n",
       "      <th>0</th>\n",
       "      <td>1</td>\n",
       "      <td>Data Analyst</td>\n",
       "      <td>C1</td>\n",
       "      <td>S1</td>\n",
       "      <td>Data Visualization Power BI</td>\n",
       "    </tr>\n",
       "    <tr>\n",
       "      <th>1</th>\n",
       "      <td>1</td>\n",
       "      <td>Data Analyst</td>\n",
       "      <td>C1</td>\n",
       "      <td>S2</td>\n",
       "      <td>Data Visualization Tableau</td>\n",
       "    </tr>\n",
       "    <tr>\n",
       "      <th>2</th>\n",
       "      <td>1</td>\n",
       "      <td>Data Analyst</td>\n",
       "      <td>C1</td>\n",
       "      <td>S3</td>\n",
       "      <td>Data Visualization Looker</td>\n",
       "    </tr>\n",
       "    <tr>\n",
       "      <th>3</th>\n",
       "      <td>1</td>\n",
       "      <td>Data Analyst</td>\n",
       "      <td>C1</td>\n",
       "      <td>S4</td>\n",
       "      <td>Data Visualization Matplotlib</td>\n",
       "    </tr>\n",
       "    <tr>\n",
       "      <th>4</th>\n",
       "      <td>1</td>\n",
       "      <td>Data Analyst</td>\n",
       "      <td>C2</td>\n",
       "      <td>S5</td>\n",
       "      <td>Data Preparation Pandas</td>\n",
       "    </tr>\n",
       "  </tbody>\n",
       "</table>\n",
       "</div>"
      ],
      "text/plain": [
       "   JobID           Job CompID SkillsID              Competency/Skills\n",
       "0      1  Data Analyst     C1       S1    Data Visualization Power BI\n",
       "1      1  Data Analyst     C1       S2     Data Visualization Tableau\n",
       "2      1  Data Analyst     C1       S3      Data Visualization Looker\n",
       "3      1  Data Analyst     C1       S4  Data Visualization Matplotlib\n",
       "4      1  Data Analyst     C2       S5        Data Preparation Pandas"
      ]
     },
     "execution_count": 13,
     "metadata": {},
     "output_type": "execute_result"
    }
   ],
   "source": [
    "data=pd.read_excel(\"data.xlsx\",sheet_name=0)\n",
    "data.head()"
   ]
  },
  {
   "cell_type": "code",
   "execution_count": 38,
   "id": "393cf8e4",
   "metadata": {},
   "outputs": [
    {
     "name": "stdout",
     "output_type": "stream",
     "text": [
      "                               Skills SkillsID\n",
      "0         Data Visualization Power BI       S1\n",
      "1          Data Visualization Tableau       S2\n",
      "2           Data Visualization Looker       S3\n",
      "3       Data Visualization Matplotlib       S4\n",
      "4             Data Preparation Pandas       S5\n",
      "5              Data Preparation NumPy       S6\n",
      "6                Data Preparation SQL       S7\n",
      "7              Data Preparation Excel       S8\n",
      "8       Machine Learning Scikit-learn       S9\n",
      "9            Machine Learning XGBoost      S10\n",
      "10          Machine Learning LightGBM      S11\n",
      "11          Machine Learning CatBoost      S12\n",
      "12             Statistical Analysis R      S13\n",
      "13          Statistical Analysis SPSS      S14\n",
      "14         Statistical Analysis Stata      S15\n",
      "15           Deep Learning TensorFlow      S16\n",
      "16              Deep Learning PyTorch      S17\n",
      "17                Deep Learning Keras      S18\n",
      "18            Model Deployment Docker      S19\n",
      "19        Model Deployment Kubernetes      S20\n",
      "20           Model Deployment FastAPI      S21\n",
      "21                Cloud Platforms AWS      S22\n",
      "22              Cloud Platforms Azure      S23\n",
      "23       Cloud Platforms Google Cloud      S24\n",
      "24          Big Data Processing Spark      S25\n",
      "25         Big Data Processing Hadoop      S26\n",
      "26     Big Data Processing Databricks      S27\n",
      "27        CI/CD for ML GitHub Actions      S28\n",
      "28               CI/CD for ML Jenkins      S29\n",
      "29             CI/CD for ML GitLab CI      S30\n",
      "30         Security Monitoring Splunk      S31\n",
      "31      Security Monitoring ELK Stack      S32\n",
      "32         Security Monitoring QRadar      S33\n",
      "33         Network Security Firewalls      S34\n",
      "34         Network Security Wireshark      S35\n",
      "35           Network Security IDS/IPS      S36\n",
      "36       Incident Response SIEM Tools      S37\n",
      "37  Incident Response Forensics Tools      S38\n",
      "38  Incident Response Case Management      S39\n",
      "39           Threat Intelligence MISP      S40\n",
      "40   Threat Intelligence MITRE ATT&CK      S41\n",
      "41  Threat Intelligence ThreatConnect      S42\n",
      "42     Exploit Development Metasploit      S43\n",
      "43     Exploit Development Burp Suite      S44\n",
      "44           Exploit Development Nmap      S45\n",
      "45          Cloud Security CloudTrail      S46\n",
      "46        Cloud Security Prisma Cloud      S47\n",
      "47        Cloud Security Security Hub      S48\n",
      "48           Malware Analysis IDA Pro      S49\n",
      "49            Malware Analysis Ghidra      S50\n",
      "50           Malware Analysis OllyDbg      S51\n"
     ]
    }
   ],
   "source": [
    "skills=pd.DataFrame(list(data[\"Competency/Skills\"].unique()),columns=[\"Skills\"])\n",
    "skills[\"SkillsID\"]=list(data[\"SkillsID\"].unique())\n",
    "print(skills)"
   ]
  },
  {
   "cell_type": "code",
   "execution_count": 39,
   "id": "8733785e",
   "metadata": {},
   "outputs": [],
   "source": [
    "model = SentenceTransformer('sentence-transformers/all-MiniLM-L6-v2')"
   ]
  },
  {
   "cell_type": "code",
   "execution_count": 40,
   "id": "6980223e",
   "metadata": {},
   "outputs": [
    {
     "name": "stdout",
     "output_type": "stream",
     "text": [
      "[[ 0.05198571  0.03726526  0.05079734 ... -0.01896067  0.0671699\n",
      "   0.02756946]\n",
      " [ 0.047552   -0.01106954 -0.01533367 ...  0.0087118   0.01541569\n",
      "  -0.01033785]\n",
      " [ 0.00875985  0.00015454  0.04707263 ... -0.00274574  0.11228129\n",
      "  -0.01075795]]\n"
     ]
    }
   ],
   "source": [
    "sentences = [\"eat apple\", \"rabbit dead\",\"mother loves fruits\"]\n",
    "embeddings = model.encode(sentences)\n",
    "print(embeddings)"
   ]
  },
  {
   "cell_type": "code",
   "execution_count": 5,
   "id": "0bef6291",
   "metadata": {},
   "outputs": [
    {
     "name": "stdout",
     "output_type": "stream",
     "text": [
      "(1, 384)\n"
     ]
    }
   ],
   "source": [
    "print(embeddings[0].reshape(1,-1).shape)"
   ]
  },
  {
   "cell_type": "code",
   "execution_count": 6,
   "id": "2cb4482e",
   "metadata": {},
   "outputs": [
    {
     "name": "stdout",
     "output_type": "stream",
     "text": [
      "[[0.07827369]]\n",
      "[[0.43070382]]\n",
      "[[0.0440757]]\n"
     ]
    }
   ],
   "source": [
    "from sklearn.metrics.pairwise import cosine_similarity\n",
    "similarity=cosine_similarity(embeddings[0].reshape(1,-1),embeddings[1].reshape(1,-1))\n",
    "print(similarity)\n",
    "similarity=cosine_similarity(embeddings[0].reshape(1,-1),embeddings[2].reshape(1,-1))\n",
    "print(similarity)\n",
    "similarity=cosine_similarity(embeddings[1].reshape(1,-1),embeddings[2].reshape(1,-1))\n",
    "print(similarity)"
   ]
  },
  {
   "cell_type": "code",
   "execution_count": 41,
   "id": "47838458",
   "metadata": {},
   "outputs": [
    {
     "name": "stderr",
     "output_type": "stream",
     "text": [
      "[nltk_data] Downloading package stopwords to\n",
      "[nltk_data]     C:\\Users\\asami\\AppData\\Roaming\\nltk_data...\n",
      "[nltk_data]   Package stopwords is already up-to-date!\n"
     ]
    }
   ],
   "source": [
    "import re\n",
    "import nltk\n",
    "from nltk.corpus import stopwords\n",
    "nltk.download(\"stopwords\")\n",
    "stopFrench=stopwords.words(\"french\")\n",
    "def normalize(text):\n",
    "  text=re.sub(r'http\\S+', '', text)\n",
    "  text=re.sub(r'@\\w+', '', text)\n",
    "  text=re.sub(r'[^a-zA-Z\\s]', '', text)\n",
    "  text=text.lower()\n",
    "  words=text.split()\n",
    "  words=[w for w in words if w not in stopFrench]\n",
    "  text=\" \".join(words)\n",
    "  return text"
   ]
  },
  {
   "cell_type": "code",
   "execution_count": 42,
   "id": "9eb3a5d1",
   "metadata": {},
   "outputs": [
    {
     "name": "stdout",
     "output_type": "stream",
     "text": [
      "travail repose vigilance constante capacit distinguer fausses alertes vritables menaces lorsquun incident confirm enclenche procdures rponse isolation systmes compromis analyse causes coordination quipes techniques rtablir scurit chaque incident opportunit dapprentissage permettant daffiner rgles dtection mieux prparer lorganisation attaques futures\n"
     ]
    }
   ],
   "source": [
    "user_input=\"Son travail repose sur une vigilance constante et une capacité à distinguer les fausses alertes des véritables menaces. Lorsqu’un incident est confirmé, il enclenche les procédures de réponse : isolation des systèmes compromis, analyse des causes, et coordination avec les équipes techniques pour rétablir la sécurité. Chaque incident est une opportunité d’apprentissage, lui permettant d’affiner les règles de détection et de mieux préparer l’organisation aux attaques futures.\"\n",
    "cleaned_user_input=normalize(user_input)\n",
    "print(cleaned_user_input)"
   ]
  },
  {
   "cell_type": "code",
   "execution_count": 43,
   "id": "60c037aa",
   "metadata": {},
   "outputs": [],
   "source": [
    "embedded_skills=model.encode(skills[\"Skills\"].apply(normalize))\n",
    "embedded_user=model.encode(cleaned_user_input)\n",
    "similarities=[model.similarity(embedded_user,skills)[0][0].item() for skills in embedded_skills]\n",
    "skills[\"Score\"]=similarities"
   ]
  },
  {
   "cell_type": "code",
   "execution_count": 44,
   "id": "c37661b2",
   "metadata": {},
   "outputs": [
    {
     "data": {
      "application/vnd.microsoft.datawrangler.viewer.v0+json": {
       "columns": [
        {
         "name": "index",
         "rawType": "int64",
         "type": "integer"
        },
        {
         "name": "Skills",
         "rawType": "object",
         "type": "string"
        },
        {
         "name": "SkillsID",
         "rawType": "object",
         "type": "string"
        },
        {
         "name": "Score",
         "rawType": "float64",
         "type": "float"
        }
       ],
       "ref": "d4ff6518-f5fa-4c17-a943-47c7e902a3c0",
       "rows": [
        [
         "0",
         "Data Visualization Power BI",
         "S1",
         "0.13167914748191833"
        ],
        [
         "1",
         "Data Visualization Tableau",
         "S2",
         "0.1132342666387558"
        ],
        [
         "2",
         "Data Visualization Looker",
         "S3",
         "0.11487822979688644"
        ],
        [
         "3",
         "Data Visualization Matplotlib",
         "S4",
         "0.026104889810085297"
        ],
        [
         "4",
         "Data Preparation Pandas",
         "S5",
         "0.12354472279548645"
        ]
       ],
       "shape": {
        "columns": 3,
        "rows": 5
       }
      },
      "text/html": [
       "<div>\n",
       "<style scoped>\n",
       "    .dataframe tbody tr th:only-of-type {\n",
       "        vertical-align: middle;\n",
       "    }\n",
       "\n",
       "    .dataframe tbody tr th {\n",
       "        vertical-align: top;\n",
       "    }\n",
       "\n",
       "    .dataframe thead th {\n",
       "        text-align: right;\n",
       "    }\n",
       "</style>\n",
       "<table border=\"1\" class=\"dataframe\">\n",
       "  <thead>\n",
       "    <tr style=\"text-align: right;\">\n",
       "      <th></th>\n",
       "      <th>Skills</th>\n",
       "      <th>SkillsID</th>\n",
       "      <th>Score</th>\n",
       "    </tr>\n",
       "  </thead>\n",
       "  <tbody>\n",
       "    <tr>\n",
       "      <th>0</th>\n",
       "      <td>Data Visualization Power BI</td>\n",
       "      <td>S1</td>\n",
       "      <td>0.131679</td>\n",
       "    </tr>\n",
       "    <tr>\n",
       "      <th>1</th>\n",
       "      <td>Data Visualization Tableau</td>\n",
       "      <td>S2</td>\n",
       "      <td>0.113234</td>\n",
       "    </tr>\n",
       "    <tr>\n",
       "      <th>2</th>\n",
       "      <td>Data Visualization Looker</td>\n",
       "      <td>S3</td>\n",
       "      <td>0.114878</td>\n",
       "    </tr>\n",
       "    <tr>\n",
       "      <th>3</th>\n",
       "      <td>Data Visualization Matplotlib</td>\n",
       "      <td>S4</td>\n",
       "      <td>0.026105</td>\n",
       "    </tr>\n",
       "    <tr>\n",
       "      <th>4</th>\n",
       "      <td>Data Preparation Pandas</td>\n",
       "      <td>S5</td>\n",
       "      <td>0.123545</td>\n",
       "    </tr>\n",
       "  </tbody>\n",
       "</table>\n",
       "</div>"
      ],
      "text/plain": [
       "                          Skills SkillsID     Score\n",
       "0    Data Visualization Power BI       S1  0.131679\n",
       "1     Data Visualization Tableau       S2  0.113234\n",
       "2      Data Visualization Looker       S3  0.114878\n",
       "3  Data Visualization Matplotlib       S4  0.026105\n",
       "4        Data Preparation Pandas       S5  0.123545"
      ]
     },
     "execution_count": 44,
     "metadata": {},
     "output_type": "execute_result"
    }
   ],
   "source": [
    "skills.head()"
   ]
  },
  {
   "cell_type": "code",
   "execution_count": 45,
   "id": "9685c814",
   "metadata": {},
   "outputs": [
    {
     "data": {
      "application/vnd.microsoft.datawrangler.viewer.v0+json": {
       "columns": [
        {
         "name": "index",
         "rawType": "int64",
         "type": "integer"
        },
        {
         "name": "Skills",
         "rawType": "object",
         "type": "string"
        },
        {
         "name": "SkillsID",
         "rawType": "object",
         "type": "string"
        },
        {
         "name": "Score",
         "rawType": "float64",
         "type": "float"
        }
       ],
       "ref": "d18558e0-c98d-4b53-a820-237b12694496",
       "rows": [
        [
         "40",
         "Threat Intelligence MITRE ATT&CK",
         "S41",
         "0.40973132848739624"
        ],
        [
         "39",
         "Threat Intelligence MISP",
         "S40",
         "0.3800520896911621"
        ],
        [
         "41",
         "Threat Intelligence ThreatConnect",
         "S42",
         "0.37509047985076904"
        ],
        [
         "36",
         "Incident Response SIEM Tools",
         "S37",
         "0.36003100872039795"
        ],
        [
         "38",
         "Incident Response Case Management",
         "S39",
         "0.30099648237228394"
        ],
        [
         "37",
         "Incident Response Forensics Tools",
         "S38",
         "0.25161969661712646"
        ],
        [
         "14",
         "Statistical Analysis Stata",
         "S15",
         "0.2509661316871643"
        ],
        [
         "12",
         "Statistical Analysis R",
         "S13",
         "0.24187827110290527"
        ],
        [
         "13",
         "Statistical Analysis SPSS",
         "S14",
         "0.24044154584407806"
        ],
        [
         "32",
         "Security Monitoring QRadar",
         "S33",
         "0.2296089380979538"
        ],
        [
         "42",
         "Exploit Development Metasploit",
         "S43",
         "0.22245265543460846"
        ],
        [
         "43",
         "Exploit Development Burp Suite",
         "S44",
         "0.2185729444026947"
        ],
        [
         "31",
         "Security Monitoring ELK Stack",
         "S32",
         "0.21591004729270935"
        ],
        [
         "50",
         "Malware Analysis OllyDbg",
         "S51",
         "0.2141602635383606"
        ],
        [
         "49",
         "Malware Analysis Ghidra",
         "S50",
         "0.2076139748096466"
        ],
        [
         "35",
         "Network Security IDS/IPS",
         "S36",
         "0.20643599331378937"
        ],
        [
         "30",
         "Security Monitoring Splunk",
         "S31",
         "0.1958044469356537"
        ],
        [
         "45",
         "Cloud Security CloudTrail",
         "S46",
         "0.19324851036071777"
        ],
        [
         "6",
         "Data Preparation SQL",
         "S7",
         "0.17893235385417938"
        ],
        [
         "46",
         "Cloud Security Prisma Cloud",
         "S47",
         "0.16577032208442688"
        ],
        [
         "33",
         "Network Security Firewalls",
         "S34",
         "0.16494101285934448"
        ],
        [
         "7",
         "Data Preparation Excel",
         "S8",
         "0.16427364945411682"
        ],
        [
         "47",
         "Cloud Security Security Hub",
         "S48",
         "0.16405847668647766"
        ],
        [
         "34",
         "Network Security Wireshark",
         "S35",
         "0.15130972862243652"
        ],
        [
         "29",
         "CI/CD for ML GitLab CI",
         "S30",
         "0.1397646963596344"
        ],
        [
         "0",
         "Data Visualization Power BI",
         "S1",
         "0.13167914748191833"
        ],
        [
         "44",
         "Exploit Development Nmap",
         "S45",
         "0.12590216100215912"
        ],
        [
         "4",
         "Data Preparation Pandas",
         "S5",
         "0.12354472279548645"
        ],
        [
         "48",
         "Malware Analysis IDA Pro",
         "S49",
         "0.11524525284767151"
        ],
        [
         "2",
         "Data Visualization Looker",
         "S3",
         "0.11487822979688644"
        ],
        [
         "1",
         "Data Visualization Tableau",
         "S2",
         "0.1132342666387558"
        ],
        [
         "20",
         "Model Deployment FastAPI",
         "S21",
         "0.10983465611934662"
        ],
        [
         "24",
         "Big Data Processing Spark",
         "S25",
         "0.10916633158922195"
        ],
        [
         "28",
         "CI/CD for ML Jenkins",
         "S29",
         "0.09823037683963776"
        ],
        [
         "25",
         "Big Data Processing Hadoop",
         "S26",
         "0.09706966578960419"
        ],
        [
         "19",
         "Model Deployment Kubernetes",
         "S20",
         "0.09258472174406052"
        ],
        [
         "8",
         "Machine Learning Scikit-learn",
         "S9",
         "0.08239404857158661"
        ],
        [
         "22",
         "Cloud Platforms Azure",
         "S23",
         "0.07566727697849274"
        ],
        [
         "27",
         "CI/CD for ML GitHub Actions",
         "S28",
         "0.07165151089429855"
        ],
        [
         "18",
         "Model Deployment Docker",
         "S19",
         "0.0687406063079834"
        ],
        [
         "21",
         "Cloud Platforms AWS",
         "S22",
         "0.06538895517587662"
        ],
        [
         "23",
         "Cloud Platforms Google Cloud",
         "S24",
         "0.059895969927310944"
        ],
        [
         "26",
         "Big Data Processing Databricks",
         "S27",
         "0.0549238920211792"
        ],
        [
         "5",
         "Data Preparation NumPy",
         "S6",
         "0.04836399108171463"
        ],
        [
         "3",
         "Data Visualization Matplotlib",
         "S4",
         "0.026104889810085297"
        ],
        [
         "15",
         "Deep Learning TensorFlow",
         "S16",
         "0.02074248157441616"
        ],
        [
         "11",
         "Machine Learning CatBoost",
         "S12",
         "0.0205856841057539"
        ],
        [
         "9",
         "Machine Learning XGBoost",
         "S10",
         "-0.005066854879260063"
        ],
        [
         "16",
         "Deep Learning PyTorch",
         "S17",
         "-0.009244440123438835"
        ],
        [
         "17",
         "Deep Learning Keras",
         "S18",
         "-0.028811097145080566"
        ]
       ],
       "shape": {
        "columns": 3,
        "rows": 51
       }
      },
      "text/html": [
       "<div>\n",
       "<style scoped>\n",
       "    .dataframe tbody tr th:only-of-type {\n",
       "        vertical-align: middle;\n",
       "    }\n",
       "\n",
       "    .dataframe tbody tr th {\n",
       "        vertical-align: top;\n",
       "    }\n",
       "\n",
       "    .dataframe thead th {\n",
       "        text-align: right;\n",
       "    }\n",
       "</style>\n",
       "<table border=\"1\" class=\"dataframe\">\n",
       "  <thead>\n",
       "    <tr style=\"text-align: right;\">\n",
       "      <th></th>\n",
       "      <th>Skills</th>\n",
       "      <th>SkillsID</th>\n",
       "      <th>Score</th>\n",
       "    </tr>\n",
       "  </thead>\n",
       "  <tbody>\n",
       "    <tr>\n",
       "      <th>40</th>\n",
       "      <td>Threat Intelligence MITRE ATT&amp;CK</td>\n",
       "      <td>S41</td>\n",
       "      <td>0.409731</td>\n",
       "    </tr>\n",
       "    <tr>\n",
       "      <th>39</th>\n",
       "      <td>Threat Intelligence MISP</td>\n",
       "      <td>S40</td>\n",
       "      <td>0.380052</td>\n",
       "    </tr>\n",
       "    <tr>\n",
       "      <th>41</th>\n",
       "      <td>Threat Intelligence ThreatConnect</td>\n",
       "      <td>S42</td>\n",
       "      <td>0.375090</td>\n",
       "    </tr>\n",
       "    <tr>\n",
       "      <th>36</th>\n",
       "      <td>Incident Response SIEM Tools</td>\n",
       "      <td>S37</td>\n",
       "      <td>0.360031</td>\n",
       "    </tr>\n",
       "    <tr>\n",
       "      <th>38</th>\n",
       "      <td>Incident Response Case Management</td>\n",
       "      <td>S39</td>\n",
       "      <td>0.300996</td>\n",
       "    </tr>\n",
       "    <tr>\n",
       "      <th>37</th>\n",
       "      <td>Incident Response Forensics Tools</td>\n",
       "      <td>S38</td>\n",
       "      <td>0.251620</td>\n",
       "    </tr>\n",
       "    <tr>\n",
       "      <th>14</th>\n",
       "      <td>Statistical Analysis Stata</td>\n",
       "      <td>S15</td>\n",
       "      <td>0.250966</td>\n",
       "    </tr>\n",
       "    <tr>\n",
       "      <th>12</th>\n",
       "      <td>Statistical Analysis R</td>\n",
       "      <td>S13</td>\n",
       "      <td>0.241878</td>\n",
       "    </tr>\n",
       "    <tr>\n",
       "      <th>13</th>\n",
       "      <td>Statistical Analysis SPSS</td>\n",
       "      <td>S14</td>\n",
       "      <td>0.240442</td>\n",
       "    </tr>\n",
       "    <tr>\n",
       "      <th>32</th>\n",
       "      <td>Security Monitoring QRadar</td>\n",
       "      <td>S33</td>\n",
       "      <td>0.229609</td>\n",
       "    </tr>\n",
       "    <tr>\n",
       "      <th>42</th>\n",
       "      <td>Exploit Development Metasploit</td>\n",
       "      <td>S43</td>\n",
       "      <td>0.222453</td>\n",
       "    </tr>\n",
       "    <tr>\n",
       "      <th>43</th>\n",
       "      <td>Exploit Development Burp Suite</td>\n",
       "      <td>S44</td>\n",
       "      <td>0.218573</td>\n",
       "    </tr>\n",
       "    <tr>\n",
       "      <th>31</th>\n",
       "      <td>Security Monitoring ELK Stack</td>\n",
       "      <td>S32</td>\n",
       "      <td>0.215910</td>\n",
       "    </tr>\n",
       "    <tr>\n",
       "      <th>50</th>\n",
       "      <td>Malware Analysis OllyDbg</td>\n",
       "      <td>S51</td>\n",
       "      <td>0.214160</td>\n",
       "    </tr>\n",
       "    <tr>\n",
       "      <th>49</th>\n",
       "      <td>Malware Analysis Ghidra</td>\n",
       "      <td>S50</td>\n",
       "      <td>0.207614</td>\n",
       "    </tr>\n",
       "    <tr>\n",
       "      <th>35</th>\n",
       "      <td>Network Security IDS/IPS</td>\n",
       "      <td>S36</td>\n",
       "      <td>0.206436</td>\n",
       "    </tr>\n",
       "    <tr>\n",
       "      <th>30</th>\n",
       "      <td>Security Monitoring Splunk</td>\n",
       "      <td>S31</td>\n",
       "      <td>0.195804</td>\n",
       "    </tr>\n",
       "    <tr>\n",
       "      <th>45</th>\n",
       "      <td>Cloud Security CloudTrail</td>\n",
       "      <td>S46</td>\n",
       "      <td>0.193249</td>\n",
       "    </tr>\n",
       "    <tr>\n",
       "      <th>6</th>\n",
       "      <td>Data Preparation SQL</td>\n",
       "      <td>S7</td>\n",
       "      <td>0.178932</td>\n",
       "    </tr>\n",
       "    <tr>\n",
       "      <th>46</th>\n",
       "      <td>Cloud Security Prisma Cloud</td>\n",
       "      <td>S47</td>\n",
       "      <td>0.165770</td>\n",
       "    </tr>\n",
       "    <tr>\n",
       "      <th>33</th>\n",
       "      <td>Network Security Firewalls</td>\n",
       "      <td>S34</td>\n",
       "      <td>0.164941</td>\n",
       "    </tr>\n",
       "    <tr>\n",
       "      <th>7</th>\n",
       "      <td>Data Preparation Excel</td>\n",
       "      <td>S8</td>\n",
       "      <td>0.164274</td>\n",
       "    </tr>\n",
       "    <tr>\n",
       "      <th>47</th>\n",
       "      <td>Cloud Security Security Hub</td>\n",
       "      <td>S48</td>\n",
       "      <td>0.164058</td>\n",
       "    </tr>\n",
       "    <tr>\n",
       "      <th>34</th>\n",
       "      <td>Network Security Wireshark</td>\n",
       "      <td>S35</td>\n",
       "      <td>0.151310</td>\n",
       "    </tr>\n",
       "    <tr>\n",
       "      <th>29</th>\n",
       "      <td>CI/CD for ML GitLab CI</td>\n",
       "      <td>S30</td>\n",
       "      <td>0.139765</td>\n",
       "    </tr>\n",
       "    <tr>\n",
       "      <th>0</th>\n",
       "      <td>Data Visualization Power BI</td>\n",
       "      <td>S1</td>\n",
       "      <td>0.131679</td>\n",
       "    </tr>\n",
       "    <tr>\n",
       "      <th>44</th>\n",
       "      <td>Exploit Development Nmap</td>\n",
       "      <td>S45</td>\n",
       "      <td>0.125902</td>\n",
       "    </tr>\n",
       "    <tr>\n",
       "      <th>4</th>\n",
       "      <td>Data Preparation Pandas</td>\n",
       "      <td>S5</td>\n",
       "      <td>0.123545</td>\n",
       "    </tr>\n",
       "    <tr>\n",
       "      <th>48</th>\n",
       "      <td>Malware Analysis IDA Pro</td>\n",
       "      <td>S49</td>\n",
       "      <td>0.115245</td>\n",
       "    </tr>\n",
       "    <tr>\n",
       "      <th>2</th>\n",
       "      <td>Data Visualization Looker</td>\n",
       "      <td>S3</td>\n",
       "      <td>0.114878</td>\n",
       "    </tr>\n",
       "    <tr>\n",
       "      <th>1</th>\n",
       "      <td>Data Visualization Tableau</td>\n",
       "      <td>S2</td>\n",
       "      <td>0.113234</td>\n",
       "    </tr>\n",
       "    <tr>\n",
       "      <th>20</th>\n",
       "      <td>Model Deployment FastAPI</td>\n",
       "      <td>S21</td>\n",
       "      <td>0.109835</td>\n",
       "    </tr>\n",
       "    <tr>\n",
       "      <th>24</th>\n",
       "      <td>Big Data Processing Spark</td>\n",
       "      <td>S25</td>\n",
       "      <td>0.109166</td>\n",
       "    </tr>\n",
       "    <tr>\n",
       "      <th>28</th>\n",
       "      <td>CI/CD for ML Jenkins</td>\n",
       "      <td>S29</td>\n",
       "      <td>0.098230</td>\n",
       "    </tr>\n",
       "    <tr>\n",
       "      <th>25</th>\n",
       "      <td>Big Data Processing Hadoop</td>\n",
       "      <td>S26</td>\n",
       "      <td>0.097070</td>\n",
       "    </tr>\n",
       "    <tr>\n",
       "      <th>19</th>\n",
       "      <td>Model Deployment Kubernetes</td>\n",
       "      <td>S20</td>\n",
       "      <td>0.092585</td>\n",
       "    </tr>\n",
       "    <tr>\n",
       "      <th>8</th>\n",
       "      <td>Machine Learning Scikit-learn</td>\n",
       "      <td>S9</td>\n",
       "      <td>0.082394</td>\n",
       "    </tr>\n",
       "    <tr>\n",
       "      <th>22</th>\n",
       "      <td>Cloud Platforms Azure</td>\n",
       "      <td>S23</td>\n",
       "      <td>0.075667</td>\n",
       "    </tr>\n",
       "    <tr>\n",
       "      <th>27</th>\n",
       "      <td>CI/CD for ML GitHub Actions</td>\n",
       "      <td>S28</td>\n",
       "      <td>0.071652</td>\n",
       "    </tr>\n",
       "    <tr>\n",
       "      <th>18</th>\n",
       "      <td>Model Deployment Docker</td>\n",
       "      <td>S19</td>\n",
       "      <td>0.068741</td>\n",
       "    </tr>\n",
       "    <tr>\n",
       "      <th>21</th>\n",
       "      <td>Cloud Platforms AWS</td>\n",
       "      <td>S22</td>\n",
       "      <td>0.065389</td>\n",
       "    </tr>\n",
       "    <tr>\n",
       "      <th>23</th>\n",
       "      <td>Cloud Platforms Google Cloud</td>\n",
       "      <td>S24</td>\n",
       "      <td>0.059896</td>\n",
       "    </tr>\n",
       "    <tr>\n",
       "      <th>26</th>\n",
       "      <td>Big Data Processing Databricks</td>\n",
       "      <td>S27</td>\n",
       "      <td>0.054924</td>\n",
       "    </tr>\n",
       "    <tr>\n",
       "      <th>5</th>\n",
       "      <td>Data Preparation NumPy</td>\n",
       "      <td>S6</td>\n",
       "      <td>0.048364</td>\n",
       "    </tr>\n",
       "    <tr>\n",
       "      <th>3</th>\n",
       "      <td>Data Visualization Matplotlib</td>\n",
       "      <td>S4</td>\n",
       "      <td>0.026105</td>\n",
       "    </tr>\n",
       "    <tr>\n",
       "      <th>15</th>\n",
       "      <td>Deep Learning TensorFlow</td>\n",
       "      <td>S16</td>\n",
       "      <td>0.020742</td>\n",
       "    </tr>\n",
       "    <tr>\n",
       "      <th>11</th>\n",
       "      <td>Machine Learning CatBoost</td>\n",
       "      <td>S12</td>\n",
       "      <td>0.020586</td>\n",
       "    </tr>\n",
       "    <tr>\n",
       "      <th>9</th>\n",
       "      <td>Machine Learning XGBoost</td>\n",
       "      <td>S10</td>\n",
       "      <td>-0.005067</td>\n",
       "    </tr>\n",
       "    <tr>\n",
       "      <th>16</th>\n",
       "      <td>Deep Learning PyTorch</td>\n",
       "      <td>S17</td>\n",
       "      <td>-0.009244</td>\n",
       "    </tr>\n",
       "    <tr>\n",
       "      <th>17</th>\n",
       "      <td>Deep Learning Keras</td>\n",
       "      <td>S18</td>\n",
       "      <td>-0.028811</td>\n",
       "    </tr>\n",
       "    <tr>\n",
       "      <th>10</th>\n",
       "      <td>Machine Learning LightGBM</td>\n",
       "      <td>S11</td>\n",
       "      <td>-0.031967</td>\n",
       "    </tr>\n",
       "  </tbody>\n",
       "</table>\n",
       "</div>"
      ],
      "text/plain": [
       "                               Skills SkillsID     Score\n",
       "40   Threat Intelligence MITRE ATT&CK      S41  0.409731\n",
       "39           Threat Intelligence MISP      S40  0.380052\n",
       "41  Threat Intelligence ThreatConnect      S42  0.375090\n",
       "36       Incident Response SIEM Tools      S37  0.360031\n",
       "38  Incident Response Case Management      S39  0.300996\n",
       "37  Incident Response Forensics Tools      S38  0.251620\n",
       "14         Statistical Analysis Stata      S15  0.250966\n",
       "12             Statistical Analysis R      S13  0.241878\n",
       "13          Statistical Analysis SPSS      S14  0.240442\n",
       "32         Security Monitoring QRadar      S33  0.229609\n",
       "42     Exploit Development Metasploit      S43  0.222453\n",
       "43     Exploit Development Burp Suite      S44  0.218573\n",
       "31      Security Monitoring ELK Stack      S32  0.215910\n",
       "50           Malware Analysis OllyDbg      S51  0.214160\n",
       "49            Malware Analysis Ghidra      S50  0.207614\n",
       "35           Network Security IDS/IPS      S36  0.206436\n",
       "30         Security Monitoring Splunk      S31  0.195804\n",
       "45          Cloud Security CloudTrail      S46  0.193249\n",
       "6                Data Preparation SQL       S7  0.178932\n",
       "46        Cloud Security Prisma Cloud      S47  0.165770\n",
       "33         Network Security Firewalls      S34  0.164941\n",
       "7              Data Preparation Excel       S8  0.164274\n",
       "47        Cloud Security Security Hub      S48  0.164058\n",
       "34         Network Security Wireshark      S35  0.151310\n",
       "29             CI/CD for ML GitLab CI      S30  0.139765\n",
       "0         Data Visualization Power BI       S1  0.131679\n",
       "44           Exploit Development Nmap      S45  0.125902\n",
       "4             Data Preparation Pandas       S5  0.123545\n",
       "48           Malware Analysis IDA Pro      S49  0.115245\n",
       "2           Data Visualization Looker       S3  0.114878\n",
       "1          Data Visualization Tableau       S2  0.113234\n",
       "20           Model Deployment FastAPI      S21  0.109835\n",
       "24          Big Data Processing Spark      S25  0.109166\n",
       "28               CI/CD for ML Jenkins      S29  0.098230\n",
       "25         Big Data Processing Hadoop      S26  0.097070\n",
       "19        Model Deployment Kubernetes      S20  0.092585\n",
       "8       Machine Learning Scikit-learn       S9  0.082394\n",
       "22              Cloud Platforms Azure      S23  0.075667\n",
       "27        CI/CD for ML GitHub Actions      S28  0.071652\n",
       "18            Model Deployment Docker      S19  0.068741\n",
       "21                Cloud Platforms AWS      S22  0.065389\n",
       "23       Cloud Platforms Google Cloud      S24  0.059896\n",
       "26     Big Data Processing Databricks      S27  0.054924\n",
       "5              Data Preparation NumPy       S6  0.048364\n",
       "3       Data Visualization Matplotlib       S4  0.026105\n",
       "15           Deep Learning TensorFlow      S16  0.020742\n",
       "11          Machine Learning CatBoost      S12  0.020586\n",
       "9            Machine Learning XGBoost      S10 -0.005067\n",
       "16              Deep Learning PyTorch      S17 -0.009244\n",
       "17                Deep Learning Keras      S18 -0.028811\n",
       "10          Machine Learning LightGBM      S11 -0.031967"
      ]
     },
     "execution_count": 45,
     "metadata": {},
     "output_type": "execute_result"
    }
   ],
   "source": [
    "skills.sort_values(by=[\"Score\"],ascending=False)"
   ]
  },
  {
   "cell_type": "code",
   "execution_count": 46,
   "id": "61db7f3a",
   "metadata": {},
   "outputs": [
    {
     "ename": "KeyError",
     "evalue": "'Job'",
     "output_type": "error",
     "traceback": [
      "\u001b[31m---------------------------------------------------------------------------\u001b[39m",
      "\u001b[31mKeyError\u001b[39m                                  Traceback (most recent call last)",
      "\u001b[36mFile \u001b[39m\u001b[32mc:\\Users\\asami\\Desktop\\ING 5\\NLP\\Job-Similarity\\venv\\Lib\\site-packages\\pandas\\core\\indexes\\base.py:3812\u001b[39m, in \u001b[36mIndex.get_loc\u001b[39m\u001b[34m(self, key)\u001b[39m\n\u001b[32m   3811\u001b[39m \u001b[38;5;28;01mtry\u001b[39;00m:\n\u001b[32m-> \u001b[39m\u001b[32m3812\u001b[39m     \u001b[38;5;28;01mreturn\u001b[39;00m \u001b[38;5;28;43mself\u001b[39;49m\u001b[43m.\u001b[49m\u001b[43m_engine\u001b[49m\u001b[43m.\u001b[49m\u001b[43mget_loc\u001b[49m\u001b[43m(\u001b[49m\u001b[43mcasted_key\u001b[49m\u001b[43m)\u001b[49m\n\u001b[32m   3813\u001b[39m \u001b[38;5;28;01mexcept\u001b[39;00m \u001b[38;5;167;01mKeyError\u001b[39;00m \u001b[38;5;28;01mas\u001b[39;00m err:\n",
      "\u001b[36mFile \u001b[39m\u001b[32mpandas/_libs/index.pyx:167\u001b[39m, in \u001b[36mpandas._libs.index.IndexEngine.get_loc\u001b[39m\u001b[34m()\u001b[39m\n",
      "\u001b[36mFile \u001b[39m\u001b[32mpandas/_libs/index.pyx:196\u001b[39m, in \u001b[36mpandas._libs.index.IndexEngine.get_loc\u001b[39m\u001b[34m()\u001b[39m\n",
      "\u001b[36mFile \u001b[39m\u001b[32mpandas/_libs/hashtable_class_helper.pxi:7088\u001b[39m, in \u001b[36mpandas._libs.hashtable.PyObjectHashTable.get_item\u001b[39m\u001b[34m()\u001b[39m\n",
      "\u001b[36mFile \u001b[39m\u001b[32mpandas/_libs/hashtable_class_helper.pxi:7096\u001b[39m, in \u001b[36mpandas._libs.hashtable.PyObjectHashTable.get_item\u001b[39m\u001b[34m()\u001b[39m\n",
      "\u001b[31mKeyError\u001b[39m: 'Job'",
      "\nThe above exception was the direct cause of the following exception:\n",
      "\u001b[31mKeyError\u001b[39m                                  Traceback (most recent call last)",
      "\u001b[36mCell\u001b[39m\u001b[36m \u001b[39m\u001b[32mIn[46]\u001b[39m\u001b[32m, line 1\u001b[39m\n\u001b[32m----> \u001b[39m\u001b[32m1\u001b[39m jobs=\u001b[38;5;28mset\u001b[39m(\u001b[43mskills\u001b[49m\u001b[43m[\u001b[49m\u001b[33;43m\"\u001b[39;49m\u001b[33;43mJob\u001b[39;49m\u001b[33;43m\"\u001b[39;49m\u001b[43m]\u001b[49m)\n\u001b[32m      2\u001b[39m jobDf=pd.DataFrame(jobs,columns=[\u001b[33m\"\u001b[39m\u001b[33mJob\u001b[39m\u001b[33m\"\u001b[39m])\n\u001b[32m      3\u001b[39m jobDf.head()\n",
      "\u001b[36mFile \u001b[39m\u001b[32mc:\\Users\\asami\\Desktop\\ING 5\\NLP\\Job-Similarity\\venv\\Lib\\site-packages\\pandas\\core\\frame.py:4107\u001b[39m, in \u001b[36mDataFrame.__getitem__\u001b[39m\u001b[34m(self, key)\u001b[39m\n\u001b[32m   4105\u001b[39m \u001b[38;5;28;01mif\u001b[39;00m \u001b[38;5;28mself\u001b[39m.columns.nlevels > \u001b[32m1\u001b[39m:\n\u001b[32m   4106\u001b[39m     \u001b[38;5;28;01mreturn\u001b[39;00m \u001b[38;5;28mself\u001b[39m._getitem_multilevel(key)\n\u001b[32m-> \u001b[39m\u001b[32m4107\u001b[39m indexer = \u001b[38;5;28;43mself\u001b[39;49m\u001b[43m.\u001b[49m\u001b[43mcolumns\u001b[49m\u001b[43m.\u001b[49m\u001b[43mget_loc\u001b[49m\u001b[43m(\u001b[49m\u001b[43mkey\u001b[49m\u001b[43m)\u001b[49m\n\u001b[32m   4108\u001b[39m \u001b[38;5;28;01mif\u001b[39;00m is_integer(indexer):\n\u001b[32m   4109\u001b[39m     indexer = [indexer]\n",
      "\u001b[36mFile \u001b[39m\u001b[32mc:\\Users\\asami\\Desktop\\ING 5\\NLP\\Job-Similarity\\venv\\Lib\\site-packages\\pandas\\core\\indexes\\base.py:3819\u001b[39m, in \u001b[36mIndex.get_loc\u001b[39m\u001b[34m(self, key)\u001b[39m\n\u001b[32m   3814\u001b[39m     \u001b[38;5;28;01mif\u001b[39;00m \u001b[38;5;28misinstance\u001b[39m(casted_key, \u001b[38;5;28mslice\u001b[39m) \u001b[38;5;129;01mor\u001b[39;00m (\n\u001b[32m   3815\u001b[39m         \u001b[38;5;28misinstance\u001b[39m(casted_key, abc.Iterable)\n\u001b[32m   3816\u001b[39m         \u001b[38;5;129;01mand\u001b[39;00m \u001b[38;5;28many\u001b[39m(\u001b[38;5;28misinstance\u001b[39m(x, \u001b[38;5;28mslice\u001b[39m) \u001b[38;5;28;01mfor\u001b[39;00m x \u001b[38;5;129;01min\u001b[39;00m casted_key)\n\u001b[32m   3817\u001b[39m     ):\n\u001b[32m   3818\u001b[39m         \u001b[38;5;28;01mraise\u001b[39;00m InvalidIndexError(key)\n\u001b[32m-> \u001b[39m\u001b[32m3819\u001b[39m     \u001b[38;5;28;01mraise\u001b[39;00m \u001b[38;5;167;01mKeyError\u001b[39;00m(key) \u001b[38;5;28;01mfrom\u001b[39;00m\u001b[38;5;250m \u001b[39m\u001b[34;01merr\u001b[39;00m\n\u001b[32m   3820\u001b[39m \u001b[38;5;28;01mexcept\u001b[39;00m \u001b[38;5;167;01mTypeError\u001b[39;00m:\n\u001b[32m   3821\u001b[39m     \u001b[38;5;66;03m# If we have a listlike key, _check_indexing_error will raise\u001b[39;00m\n\u001b[32m   3822\u001b[39m     \u001b[38;5;66;03m#  InvalidIndexError. Otherwise we fall through and re-raise\u001b[39;00m\n\u001b[32m   3823\u001b[39m     \u001b[38;5;66;03m#  the TypeError.\u001b[39;00m\n\u001b[32m   3824\u001b[39m     \u001b[38;5;28mself\u001b[39m._check_indexing_error(key)\n",
      "\u001b[31mKeyError\u001b[39m: 'Job'"
     ]
    }
   ],
   "source": [
    "jobs=set(skills[\"Job\"])\n",
    "jobDf=pd.DataFrame(jobs,columns=[\"Job\"])\n",
    "jobDf.head()"
   ]
  },
  {
   "cell_type": "code",
   "execution_count": 14,
   "id": "a5a76311",
   "metadata": {},
   "outputs": [
    {
     "data": {
      "text/html": [
       "<div>\n",
       "<style scoped>\n",
       "    .dataframe tbody tr th:only-of-type {\n",
       "        vertical-align: middle;\n",
       "    }\n",
       "\n",
       "    .dataframe tbody tr th {\n",
       "        vertical-align: top;\n",
       "    }\n",
       "\n",
       "    .dataframe thead th {\n",
       "        text-align: right;\n",
       "    }\n",
       "</style>\n",
       "<table border=\"1\" class=\"dataframe\">\n",
       "  <thead>\n",
       "    <tr style=\"text-align: right;\">\n",
       "      <th></th>\n",
       "      <th>Job</th>\n",
       "      <th>MeanScore</th>\n",
       "    </tr>\n",
       "  </thead>\n",
       "  <tbody>\n",
       "    <tr>\n",
       "      <th>0</th>\n",
       "      <td>Cybersecurity Analyst</td>\n",
       "      <td>0.213775</td>\n",
       "    </tr>\n",
       "    <tr>\n",
       "      <th>1</th>\n",
       "      <td>SOC Analyst</td>\n",
       "      <td>0.213775</td>\n",
       "    </tr>\n",
       "    <tr>\n",
       "      <th>2</th>\n",
       "      <td>Pentester (Ethical Hacker)</td>\n",
       "      <td>0.174229</td>\n",
       "    </tr>\n",
       "    <tr>\n",
       "      <th>3</th>\n",
       "      <td>Threat Intelligence Analyst</td>\n",
       "      <td>0.174229</td>\n",
       "    </tr>\n",
       "    <tr>\n",
       "      <th>4</th>\n",
       "      <td>Data Analyst</td>\n",
       "      <td>0.119931</td>\n",
       "    </tr>\n",
       "  </tbody>\n",
       "</table>\n",
       "</div>"
      ],
      "text/plain": [
       "                           Job  MeanScore\n",
       "0        Cybersecurity Analyst   0.213775\n",
       "1                  SOC Analyst   0.213775\n",
       "2   Pentester (Ethical Hacker)   0.174229\n",
       "3  Threat Intelligence Analyst   0.174229\n",
       "4                 Data Analyst   0.119931"
      ]
     },
     "execution_count": 14,
     "metadata": {},
     "output_type": "execute_result"
    }
   ],
   "source": [
    "means=[]\n",
    "for job in jobs:\n",
    "    means.append(np.mean(skills[skills[\"Job\"]==job][\"Score\"][0:3]))\n",
    "jobDf[\"MeanScore\"]=means\n",
    "finalJob=jobDf.sort_values(by=\"MeanScore\",ascending=False).reset_index(drop=True)\n",
    "finalJob.head()"
   ]
  },
  {
   "cell_type": "code",
   "execution_count": 15,
   "id": "c91a415e",
   "metadata": {},
   "outputs": [
    {
     "name": "stdout",
     "output_type": "stream",
     "text": [
      "Le metier qui vous correspond le plus est :  Cybersecurity Analyst\n"
     ]
    }
   ],
   "source": [
    "print(\"Le metier qui vous correspond le plus est : \",finalJob.loc[0,\"Job\"])"
   ]
  }
 ],
 "metadata": {
  "kernelspec": {
   "display_name": "venv (3.12.4)",
   "language": "python",
   "name": "python3"
  },
  "language_info": {
   "codemirror_mode": {
    "name": "ipython",
    "version": 3
   },
   "file_extension": ".py",
   "mimetype": "text/x-python",
   "name": "python",
   "nbconvert_exporter": "python",
   "pygments_lexer": "ipython3",
   "version": "3.12.4"
  }
 },
 "nbformat": 4,
 "nbformat_minor": 5
}
