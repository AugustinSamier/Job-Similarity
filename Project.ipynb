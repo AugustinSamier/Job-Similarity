{
 "cells": [
  {
   "cell_type": "code",
   "execution_count": 1,
   "id": "0f4764f8",
   "metadata": {},
   "outputs": [
    {
     "name": "stderr",
     "output_type": "stream",
     "text": [
      "c:\\Users\\asami\\AppData\\Local\\Programs\\Python\\Python310\\lib\\site-packages\\tqdm\\auto.py:21: TqdmWarning: IProgress not found. Please update jupyter and ipywidgets. See https://ipywidgets.readthedocs.io/en/stable/user_install.html\n",
      "  from .autonotebook import tqdm as notebook_tqdm\n"
     ]
    }
   ],
   "source": [
    "import pandas as pd\n",
    "from sentence_transformers import SentenceTransformer"
   ]
  },
  {
   "cell_type": "code",
   "execution_count": 2,
   "id": "d7bf1b6d",
   "metadata": {},
   "outputs": [
    {
     "data": {
      "text/html": [
       "<div>\n",
       "<style scoped>\n",
       "    .dataframe tbody tr th:only-of-type {\n",
       "        vertical-align: middle;\n",
       "    }\n",
       "\n",
       "    .dataframe tbody tr th {\n",
       "        vertical-align: top;\n",
       "    }\n",
       "\n",
       "    .dataframe thead th {\n",
       "        text-align: right;\n",
       "    }\n",
       "</style>\n",
       "<table border=\"1\" class=\"dataframe\">\n",
       "  <thead>\n",
       "    <tr style=\"text-align: right;\">\n",
       "      <th></th>\n",
       "      <th>JobID</th>\n",
       "      <th>Job</th>\n",
       "      <th>CompID</th>\n",
       "      <th>SkillsID</th>\n",
       "      <th>Competency/Skills</th>\n",
       "    </tr>\n",
       "  </thead>\n",
       "  <tbody>\n",
       "    <tr>\n",
       "      <th>0</th>\n",
       "      <td>1</td>\n",
       "      <td>Data Analyst</td>\n",
       "      <td>C1</td>\n",
       "      <td>S1</td>\n",
       "      <td>Data Visualization Power BI</td>\n",
       "    </tr>\n",
       "    <tr>\n",
       "      <th>1</th>\n",
       "      <td>1</td>\n",
       "      <td>Data Analyst</td>\n",
       "      <td>C1</td>\n",
       "      <td>S2</td>\n",
       "      <td>Data Visualization Tableau</td>\n",
       "    </tr>\n",
       "    <tr>\n",
       "      <th>2</th>\n",
       "      <td>1</td>\n",
       "      <td>Data Analyst</td>\n",
       "      <td>C1</td>\n",
       "      <td>S3</td>\n",
       "      <td>Data Visualization Looker</td>\n",
       "    </tr>\n",
       "    <tr>\n",
       "      <th>3</th>\n",
       "      <td>1</td>\n",
       "      <td>Data Analyst</td>\n",
       "      <td>C1</td>\n",
       "      <td>S4</td>\n",
       "      <td>Data Visualization Matplotlib</td>\n",
       "    </tr>\n",
       "    <tr>\n",
       "      <th>4</th>\n",
       "      <td>1</td>\n",
       "      <td>Data Analyst</td>\n",
       "      <td>C2</td>\n",
       "      <td>S5</td>\n",
       "      <td>Data Preparation Pandas</td>\n",
       "    </tr>\n",
       "  </tbody>\n",
       "</table>\n",
       "</div>"
      ],
      "text/plain": [
       "   JobID           Job CompID SkillsID              Competency/Skills\n",
       "0      1  Data Analyst     C1       S1    Data Visualization Power BI\n",
       "1      1  Data Analyst     C1       S2     Data Visualization Tableau\n",
       "2      1  Data Analyst     C1       S3      Data Visualization Looker\n",
       "3      1  Data Analyst     C1       S4  Data Visualization Matplotlib\n",
       "4      1  Data Analyst     C2       S5        Data Preparation Pandas"
      ]
     },
     "execution_count": 2,
     "metadata": {},
     "output_type": "execute_result"
    }
   ],
   "source": [
    "skills=pd.read_excel(\"data.xlsx\",sheet_name=0)\n",
    "skills.head()"
   ]
  },
  {
   "cell_type": "code",
   "execution_count": 3,
   "id": "8733785e",
   "metadata": {},
   "outputs": [],
   "source": [
    "model = SentenceTransformer('sentence-transformers/all-MiniLM-L6-v2')"
   ]
  },
  {
   "cell_type": "code",
   "execution_count": 4,
   "id": "6980223e",
   "metadata": {},
   "outputs": [
    {
     "name": "stdout",
     "output_type": "stream",
     "text": [
      "[[ 0.0519857   0.03726526  0.05079734 ... -0.01896069  0.06716993\n",
      "   0.02756945]\n",
      " [ 0.04755198 -0.01106954 -0.01533367 ...  0.00871179  0.01541569\n",
      "  -0.01033784]\n",
      " [ 0.00875989  0.00015454  0.04707264 ... -0.00274575  0.11228129\n",
      "  -0.01075796]]\n"
     ]
    }
   ],
   "source": [
    "sentences = [\"eat apple\", \"rabbit dead\",\"mother loves fruits\"]\n",
    "embeddings = model.encode(sentences)\n",
    "print(embeddings)"
   ]
  },
  {
   "cell_type": "code",
   "execution_count": 5,
   "id": "0bef6291",
   "metadata": {},
   "outputs": [
    {
     "name": "stdout",
     "output_type": "stream",
     "text": [
      "(1, 384)\n"
     ]
    }
   ],
   "source": [
    "print(embeddings[0].reshape(1,-1).shape)"
   ]
  },
  {
   "cell_type": "code",
   "execution_count": 6,
   "id": "2cb4482e",
   "metadata": {},
   "outputs": [
    {
     "name": "stdout",
     "output_type": "stream",
     "text": [
      "[[0.07827369]]\n",
      "[[0.43070382]]\n",
      "[[0.0440757]]\n"
     ]
    }
   ],
   "source": [
    "from sklearn.metrics.pairwise import cosine_similarity\n",
    "similarity=cosine_similarity(embeddings[0].reshape(1,-1),embeddings[1].reshape(1,-1))\n",
    "print(similarity)\n",
    "similarity=cosine_similarity(embeddings[0].reshape(1,-1),embeddings[2].reshape(1,-1))\n",
    "print(similarity)\n",
    "similarity=cosine_similarity(embeddings[1].reshape(1,-1),embeddings[2].reshape(1,-1))\n",
    "print(similarity)"
   ]
  },
  {
   "cell_type": "code",
   "execution_count": 7,
   "id": "47838458",
   "metadata": {},
   "outputs": [
    {
     "name": "stderr",
     "output_type": "stream",
     "text": [
      "[nltk_data] Downloading package stopwords to\n",
      "[nltk_data]     C:\\Users\\asami\\AppData\\Roaming\\nltk_data...\n",
      "[nltk_data]   Package stopwords is already up-to-date!\n"
     ]
    }
   ],
   "source": [
    "import re\n",
    "import nltk\n",
    "from nltk.corpus import stopwords\n",
    "nltk.download(\"stopwords\")\n",
    "stopFrench=stopwords.words(\"french\")\n",
    "def normalize(text):\n",
    "  text=re.sub(r'http\\S+', '', text)\n",
    "  text=re.sub(r'@\\w+', '', text)\n",
    "  text=re.sub(r'[^a-zA-Z\\s]', '', text)\n",
    "  text=text.lower()\n",
    "  words=text.split()\n",
    "  words=[w for w in words if w not in stopFrench]\n",
    "  text=\" \".join(words)\n",
    "  return text"
   ]
  },
  {
   "cell_type": "code",
   "execution_count": 8,
   "id": "9eb3a5d1",
   "metadata": {},
   "outputs": [
    {
     "name": "stdout",
     "output_type": "stream",
     "text": [
      "travail repose vigilance constante capacit distinguer fausses alertes vritables menaces lorsquun incident confirm enclenche procdures rponse isolation systmes compromis analyse causes coordination quipes techniques rtablir scurit chaque incident opportunit dapprentissage permettant daffiner rgles dtection mieux prparer lorganisation attaques futures\n"
     ]
    }
   ],
   "source": [
    "user_input=\"Son travail repose sur une vigilance constante et une capacité à distinguer les fausses alertes des véritables menaces. Lorsqu’un incident est confirmé, il enclenche les procédures de réponse : isolation des systèmes compromis, analyse des causes, et coordination avec les équipes techniques pour rétablir la sécurité. Chaque incident est une opportunité d’apprentissage, lui permettant d’affiner les règles de détection et de mieux préparer l’organisation aux attaques futures.\"\n",
    "cleaned_user_input=normalize(user_input)\n",
    "print(cleaned_user_input)"
   ]
  },
  {
   "cell_type": "code",
   "execution_count": 9,
   "id": "60c037aa",
   "metadata": {},
   "outputs": [],
   "source": [
    "embedded_skills=model.encode(skills[\"Competency/Skills\"].apply(normalize))\n",
    "embedded_user=model.encode(cleaned_user_input)\n",
    "similarities=[model.similarity(embedded_user,skills)[0][0].item() for skills in embedded_skills]\n",
    "skills[\"Score\"]=similarities"
   ]
  },
  {
   "cell_type": "code",
   "execution_count": 10,
   "id": "c37661b2",
   "metadata": {},
   "outputs": [
    {
     "data": {
      "text/html": [
       "<div>\n",
       "<style scoped>\n",
       "    .dataframe tbody tr th:only-of-type {\n",
       "        vertical-align: middle;\n",
       "    }\n",
       "\n",
       "    .dataframe tbody tr th {\n",
       "        vertical-align: top;\n",
       "    }\n",
       "\n",
       "    .dataframe thead th {\n",
       "        text-align: right;\n",
       "    }\n",
       "</style>\n",
       "<table border=\"1\" class=\"dataframe\">\n",
       "  <thead>\n",
       "    <tr style=\"text-align: right;\">\n",
       "      <th></th>\n",
       "      <th>JobID</th>\n",
       "      <th>Job</th>\n",
       "      <th>CompID</th>\n",
       "      <th>SkillsID</th>\n",
       "      <th>Competency/Skills</th>\n",
       "      <th>Score</th>\n",
       "    </tr>\n",
       "  </thead>\n",
       "  <tbody>\n",
       "    <tr>\n",
       "      <th>0</th>\n",
       "      <td>1</td>\n",
       "      <td>Data Analyst</td>\n",
       "      <td>C1</td>\n",
       "      <td>S1</td>\n",
       "      <td>Data Visualization Power BI</td>\n",
       "      <td>0.131679</td>\n",
       "    </tr>\n",
       "    <tr>\n",
       "      <th>1</th>\n",
       "      <td>1</td>\n",
       "      <td>Data Analyst</td>\n",
       "      <td>C1</td>\n",
       "      <td>S2</td>\n",
       "      <td>Data Visualization Tableau</td>\n",
       "      <td>0.113234</td>\n",
       "    </tr>\n",
       "    <tr>\n",
       "      <th>2</th>\n",
       "      <td>1</td>\n",
       "      <td>Data Analyst</td>\n",
       "      <td>C1</td>\n",
       "      <td>S3</td>\n",
       "      <td>Data Visualization Looker</td>\n",
       "      <td>0.114878</td>\n",
       "    </tr>\n",
       "    <tr>\n",
       "      <th>3</th>\n",
       "      <td>1</td>\n",
       "      <td>Data Analyst</td>\n",
       "      <td>C1</td>\n",
       "      <td>S4</td>\n",
       "      <td>Data Visualization Matplotlib</td>\n",
       "      <td>0.026105</td>\n",
       "    </tr>\n",
       "    <tr>\n",
       "      <th>4</th>\n",
       "      <td>1</td>\n",
       "      <td>Data Analyst</td>\n",
       "      <td>C2</td>\n",
       "      <td>S5</td>\n",
       "      <td>Data Preparation Pandas</td>\n",
       "      <td>0.123545</td>\n",
       "    </tr>\n",
       "  </tbody>\n",
       "</table>\n",
       "</div>"
      ],
      "text/plain": [
       "   JobID           Job CompID SkillsID              Competency/Skills  \\\n",
       "0      1  Data Analyst     C1       S1    Data Visualization Power BI   \n",
       "1      1  Data Analyst     C1       S2     Data Visualization Tableau   \n",
       "2      1  Data Analyst     C1       S3      Data Visualization Looker   \n",
       "3      1  Data Analyst     C1       S4  Data Visualization Matplotlib   \n",
       "4      1  Data Analyst     C2       S5        Data Preparation Pandas   \n",
       "\n",
       "      Score  \n",
       "0  0.131679  \n",
       "1  0.113234  \n",
       "2  0.114878  \n",
       "3  0.026105  \n",
       "4  0.123545  "
      ]
     },
     "execution_count": 10,
     "metadata": {},
     "output_type": "execute_result"
    }
   ],
   "source": [
    "skills.head()"
   ]
  },
  {
   "cell_type": "code",
   "execution_count": 11,
   "id": "9685c814",
   "metadata": {},
   "outputs": [
    {
     "data": {
      "text/html": [
       "<div>\n",
       "<style scoped>\n",
       "    .dataframe tbody tr th:only-of-type {\n",
       "        vertical-align: middle;\n",
       "    }\n",
       "\n",
       "    .dataframe tbody tr th {\n",
       "        vertical-align: top;\n",
       "    }\n",
       "\n",
       "    .dataframe thead th {\n",
       "        text-align: right;\n",
       "    }\n",
       "</style>\n",
       "<table border=\"1\" class=\"dataframe\">\n",
       "  <thead>\n",
       "    <tr style=\"text-align: right;\">\n",
       "      <th></th>\n",
       "      <th>JobID</th>\n",
       "      <th>Job</th>\n",
       "      <th>CompID</th>\n",
       "      <th>SkillsID</th>\n",
       "      <th>Competency/Skills</th>\n",
       "      <th>Score</th>\n",
       "    </tr>\n",
       "  </thead>\n",
       "  <tbody>\n",
       "    <tr>\n",
       "      <th>83</th>\n",
       "      <td>7</td>\n",
       "      <td>SOC Analyst</td>\n",
       "      <td>C13</td>\n",
       "      <td>S41</td>\n",
       "      <td>Threat Intelligence MITRE ATT&amp;CK</td>\n",
       "      <td>0.409731</td>\n",
       "    </tr>\n",
       "    <tr>\n",
       "      <th>110</th>\n",
       "      <td>10</td>\n",
       "      <td>Threat Intelligence Analyst</td>\n",
       "      <td>C13</td>\n",
       "      <td>S41</td>\n",
       "      <td>Threat Intelligence MITRE ATT&amp;CK</td>\n",
       "      <td>0.409731</td>\n",
       "    </tr>\n",
       "    <tr>\n",
       "      <th>82</th>\n",
       "      <td>7</td>\n",
       "      <td>SOC Analyst</td>\n",
       "      <td>C13</td>\n",
       "      <td>S40</td>\n",
       "      <td>Threat Intelligence MISP</td>\n",
       "      <td>0.380052</td>\n",
       "    </tr>\n",
       "    <tr>\n",
       "      <th>109</th>\n",
       "      <td>10</td>\n",
       "      <td>Threat Intelligence Analyst</td>\n",
       "      <td>C13</td>\n",
       "      <td>S40</td>\n",
       "      <td>Threat Intelligence MISP</td>\n",
       "      <td>0.380052</td>\n",
       "    </tr>\n",
       "    <tr>\n",
       "      <th>111</th>\n",
       "      <td>10</td>\n",
       "      <td>Threat Intelligence Analyst</td>\n",
       "      <td>C13</td>\n",
       "      <td>S42</td>\n",
       "      <td>Threat Intelligence ThreatConnect</td>\n",
       "      <td>0.375090</td>\n",
       "    </tr>\n",
       "    <tr>\n",
       "      <th>...</th>\n",
       "      <td>...</td>\n",
       "      <td>...</td>\n",
       "      <td>...</td>\n",
       "      <td>...</td>\n",
       "      <td>...</td>\n",
       "      <td>...</td>\n",
       "    </tr>\n",
       "    <tr>\n",
       "      <th>38</th>\n",
       "      <td>3</td>\n",
       "      <td>Machine Learning Engineer</td>\n",
       "      <td>C5</td>\n",
       "      <td>S18</td>\n",
       "      <td>Deep Learning Keras</td>\n",
       "      <td>-0.028811</td>\n",
       "    </tr>\n",
       "    <tr>\n",
       "      <th>28</th>\n",
       "      <td>2</td>\n",
       "      <td>Data Scientist</td>\n",
       "      <td>C5</td>\n",
       "      <td>S18</td>\n",
       "      <td>Deep Learning Keras</td>\n",
       "      <td>-0.028811</td>\n",
       "    </tr>\n",
       "    <tr>\n",
       "      <th>10</th>\n",
       "      <td>1</td>\n",
       "      <td>Data Analyst</td>\n",
       "      <td>C3</td>\n",
       "      <td>S11</td>\n",
       "      <td>Machine Learning LightGBM</td>\n",
       "      <td>-0.031967</td>\n",
       "    </tr>\n",
       "    <tr>\n",
       "      <th>21</th>\n",
       "      <td>2</td>\n",
       "      <td>Data Scientist</td>\n",
       "      <td>C3</td>\n",
       "      <td>S11</td>\n",
       "      <td>Machine Learning LightGBM</td>\n",
       "      <td>-0.031967</td>\n",
       "    </tr>\n",
       "    <tr>\n",
       "      <th>31</th>\n",
       "      <td>3</td>\n",
       "      <td>Machine Learning Engineer</td>\n",
       "      <td>C3</td>\n",
       "      <td>S11</td>\n",
       "      <td>Machine Learning LightGBM</td>\n",
       "      <td>-0.031967</td>\n",
       "    </tr>\n",
       "  </tbody>\n",
       "</table>\n",
       "<p>118 rows × 6 columns</p>\n",
       "</div>"
      ],
      "text/plain": [
       "     JobID                          Job CompID SkillsID  \\\n",
       "83       7                  SOC Analyst    C13      S41   \n",
       "110     10  Threat Intelligence Analyst    C13      S41   \n",
       "82       7                  SOC Analyst    C13      S40   \n",
       "109     10  Threat Intelligence Analyst    C13      S40   \n",
       "111     10  Threat Intelligence Analyst    C13      S42   \n",
       "..     ...                          ...    ...      ...   \n",
       "38       3    Machine Learning Engineer     C5      S18   \n",
       "28       2               Data Scientist     C5      S18   \n",
       "10       1                 Data Analyst     C3      S11   \n",
       "21       2               Data Scientist     C3      S11   \n",
       "31       3    Machine Learning Engineer     C3      S11   \n",
       "\n",
       "                     Competency/Skills     Score  \n",
       "83    Threat Intelligence MITRE ATT&CK  0.409731  \n",
       "110   Threat Intelligence MITRE ATT&CK  0.409731  \n",
       "82            Threat Intelligence MISP  0.380052  \n",
       "109           Threat Intelligence MISP  0.380052  \n",
       "111  Threat Intelligence ThreatConnect  0.375090  \n",
       "..                                 ...       ...  \n",
       "38                 Deep Learning Keras -0.028811  \n",
       "28                 Deep Learning Keras -0.028811  \n",
       "10           Machine Learning LightGBM -0.031967  \n",
       "21           Machine Learning LightGBM -0.031967  \n",
       "31           Machine Learning LightGBM -0.031967  \n",
       "\n",
       "[118 rows x 6 columns]"
      ]
     },
     "execution_count": 11,
     "metadata": {},
     "output_type": "execute_result"
    }
   ],
   "source": [
    "skills.sort_values(by=[\"Score\"],ascending=False)"
   ]
  },
  {
   "cell_type": "code",
   "execution_count": 12,
   "id": "6a37752d",
   "metadata": {},
   "outputs": [],
   "source": [
    "import numpy as np"
   ]
  },
  {
   "cell_type": "code",
   "execution_count": 13,
   "id": "61db7f3a",
   "metadata": {},
   "outputs": [
    {
     "data": {
      "text/html": [
       "<div>\n",
       "<style scoped>\n",
       "    .dataframe tbody tr th:only-of-type {\n",
       "        vertical-align: middle;\n",
       "    }\n",
       "\n",
       "    .dataframe tbody tr th {\n",
       "        vertical-align: top;\n",
       "    }\n",
       "\n",
       "    .dataframe thead th {\n",
       "        text-align: right;\n",
       "    }\n",
       "</style>\n",
       "<table border=\"1\" class=\"dataframe\">\n",
       "  <thead>\n",
       "    <tr style=\"text-align: right;\">\n",
       "      <th></th>\n",
       "      <th>Job</th>\n",
       "    </tr>\n",
       "  </thead>\n",
       "  <tbody>\n",
       "    <tr>\n",
       "      <th>0</th>\n",
       "      <td>Machine Learning Engineer</td>\n",
       "    </tr>\n",
       "    <tr>\n",
       "      <th>1</th>\n",
       "      <td>Data Analyst</td>\n",
       "    </tr>\n",
       "    <tr>\n",
       "      <th>2</th>\n",
       "      <td>Data Engineer</td>\n",
       "    </tr>\n",
       "    <tr>\n",
       "      <th>3</th>\n",
       "      <td>Pentester (Ethical Hacker)</td>\n",
       "    </tr>\n",
       "    <tr>\n",
       "      <th>4</th>\n",
       "      <td>Threat Intelligence Analyst</td>\n",
       "    </tr>\n",
       "  </tbody>\n",
       "</table>\n",
       "</div>"
      ],
      "text/plain": [
       "                           Job\n",
       "0    Machine Learning Engineer\n",
       "1                 Data Analyst\n",
       "2                Data Engineer\n",
       "3   Pentester (Ethical Hacker)\n",
       "4  Threat Intelligence Analyst"
      ]
     },
     "execution_count": 13,
     "metadata": {},
     "output_type": "execute_result"
    }
   ],
   "source": [
    "jobs=set(skills[\"Job\"])\n",
    "jobDf=pd.DataFrame(jobs,columns=[\"Job\"])\n",
    "jobDf.head()"
   ]
  },
  {
   "cell_type": "code",
   "execution_count": 14,
   "id": "a5a76311",
   "metadata": {},
   "outputs": [
    {
     "data": {
      "text/html": [
       "<div>\n",
       "<style scoped>\n",
       "    .dataframe tbody tr th:only-of-type {\n",
       "        vertical-align: middle;\n",
       "    }\n",
       "\n",
       "    .dataframe tbody tr th {\n",
       "        vertical-align: top;\n",
       "    }\n",
       "\n",
       "    .dataframe thead th {\n",
       "        text-align: right;\n",
       "    }\n",
       "</style>\n",
       "<table border=\"1\" class=\"dataframe\">\n",
       "  <thead>\n",
       "    <tr style=\"text-align: right;\">\n",
       "      <th></th>\n",
       "      <th>Job</th>\n",
       "      <th>MeanScore</th>\n",
       "    </tr>\n",
       "  </thead>\n",
       "  <tbody>\n",
       "    <tr>\n",
       "      <th>0</th>\n",
       "      <td>Cybersecurity Analyst</td>\n",
       "      <td>0.213775</td>\n",
       "    </tr>\n",
       "    <tr>\n",
       "      <th>1</th>\n",
       "      <td>SOC Analyst</td>\n",
       "      <td>0.213775</td>\n",
       "    </tr>\n",
       "    <tr>\n",
       "      <th>2</th>\n",
       "      <td>Pentester (Ethical Hacker)</td>\n",
       "      <td>0.174229</td>\n",
       "    </tr>\n",
       "    <tr>\n",
       "      <th>3</th>\n",
       "      <td>Threat Intelligence Analyst</td>\n",
       "      <td>0.174229</td>\n",
       "    </tr>\n",
       "    <tr>\n",
       "      <th>4</th>\n",
       "      <td>Data Analyst</td>\n",
       "      <td>0.119931</td>\n",
       "    </tr>\n",
       "  </tbody>\n",
       "</table>\n",
       "</div>"
      ],
      "text/plain": [
       "                           Job  MeanScore\n",
       "0        Cybersecurity Analyst   0.213775\n",
       "1                  SOC Analyst   0.213775\n",
       "2   Pentester (Ethical Hacker)   0.174229\n",
       "3  Threat Intelligence Analyst   0.174229\n",
       "4                 Data Analyst   0.119931"
      ]
     },
     "execution_count": 14,
     "metadata": {},
     "output_type": "execute_result"
    }
   ],
   "source": [
    "means=[]\n",
    "for job in jobs:\n",
    "    means.append(np.mean(skills[skills[\"Job\"]==job][\"Score\"][0:3]))\n",
    "jobDf[\"MeanScore\"]=means\n",
    "finalJob=jobDf.sort_values(by=\"MeanScore\",ascending=False).reset_index(drop=True)\n",
    "finalJob.head()"
   ]
  },
  {
   "cell_type": "code",
   "execution_count": 15,
   "id": "c91a415e",
   "metadata": {},
   "outputs": [
    {
     "name": "stdout",
     "output_type": "stream",
     "text": [
      "Le metier qui vous correspond le plus est :  Cybersecurity Analyst\n"
     ]
    }
   ],
   "source": [
    "print(\"Le metier qui vous correspond le plus est : \",finalJob.loc[0,\"Job\"])"
   ]
  }
 ],
 "metadata": {
  "kernelspec": {
   "display_name": "Python 3",
   "language": "python",
   "name": "python3"
  },
  "language_info": {
   "codemirror_mode": {
    "name": "ipython",
    "version": 3
   },
   "file_extension": ".py",
   "mimetype": "text/x-python",
   "name": "python",
   "nbconvert_exporter": "python",
   "pygments_lexer": "ipython3",
   "version": "3.10.0"
  }
 },
 "nbformat": 4,
 "nbformat_minor": 5
}
